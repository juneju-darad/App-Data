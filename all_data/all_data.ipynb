{
 "cells": [
  {
   "cell_type": "code",
   "execution_count": 21,
   "metadata": {},
   "outputs": [],
   "source": [
    "import pandas as pd\n",
    "import numpy as np"
   ]
  },
  {
   "cell_type": "code",
   "execution_count": 15,
   "metadata": {},
   "outputs": [],
   "source": [
    "df1 = pd.read_excel(r'BD_App_List.xlsx', column=['app_name'])\n",
    "df2 = pd.read_csv('items.csv')"
   ]
  },
  {
   "cell_type": "code",
   "execution_count": 12,
   "metadata": {},
   "outputs": [
    {
     "data": {
      "text/html": [
       "<div>\n",
       "<style scoped>\n",
       "    .dataframe tbody tr th:only-of-type {\n",
       "        vertical-align: middle;\n",
       "    }\n",
       "\n",
       "    .dataframe tbody tr th {\n",
       "        vertical-align: top;\n",
       "    }\n",
       "\n",
       "    .dataframe thead th {\n",
       "        text-align: right;\n",
       "    }\n",
       "</style>\n",
       "<table border=\"1\" class=\"dataframe\">\n",
       "  <thead>\n",
       "    <tr style=\"text-align: right;\">\n",
       "      <th></th>\n",
       "      <th>country</th>\n",
       "      <th>store_cat</th>\n",
       "      <th>app</th>\n",
       "      <th>app_name</th>\n",
       "    </tr>\n",
       "  </thead>\n",
       "  <tbody>\n",
       "    <tr>\n",
       "      <th>0</th>\n",
       "      <td>BD</td>\n",
       "      <td>Video Players</td>\n",
       "      <td>com.mxtech.videoplayer.ad</td>\n",
       "      <td>MX Player</td>\n",
       "    </tr>\n",
       "    <tr>\n",
       "      <th>1</th>\n",
       "      <td>BD</td>\n",
       "      <td>Video Players &amp; Editors</td>\n",
       "      <td>video.like</td>\n",
       "      <td>Likee - Formerly LIKE Video</td>\n",
       "    </tr>\n",
       "    <tr>\n",
       "      <th>2</th>\n",
       "      <td>BD</td>\n",
       "      <td>Video Players</td>\n",
       "      <td>com.rahul.videoderbeta</td>\n",
       "      <td>NaN</td>\n",
       "    </tr>\n",
       "    <tr>\n",
       "      <th>3</th>\n",
       "      <td>BD</td>\n",
       "      <td>Video Players &amp; Editors</td>\n",
       "      <td>com.androvid</td>\n",
       "      <td>AndroVid - Video Editor</td>\n",
       "    </tr>\n",
       "    <tr>\n",
       "      <th>4</th>\n",
       "      <td>BD</td>\n",
       "      <td>Video Players</td>\n",
       "      <td>com.utorrent.client</td>\n",
       "      <td>ÃƒÆ’Ã¢â‚¬Å¡Ãƒâ€šÃ‚ÂµTorrentÃƒÆ’Ã¢â‚¬Å¡Ãƒâ€šÃ‚Â...</td>\n",
       "    </tr>\n",
       "  </tbody>\n",
       "</table>\n",
       "</div>"
      ],
      "text/plain": [
       "  country                store_cat                        app  \\\n",
       "0      BD            Video Players  com.mxtech.videoplayer.ad   \n",
       "1      BD  Video Players & Editors                 video.like   \n",
       "2      BD            Video Players     com.rahul.videoderbeta   \n",
       "3      BD  Video Players & Editors               com.androvid   \n",
       "4      BD            Video Players        com.utorrent.client   \n",
       "\n",
       "                                            app_name  \n",
       "0                                          MX Player  \n",
       "1                        Likee - Formerly LIKE Video  \n",
       "2                                                NaN  \n",
       "3                            AndroVid - Video Editor  \n",
       "4  ÃƒÆ’Ã¢â‚¬Å¡Ãƒâ€šÃ‚ÂµTorrentÃƒÆ’Ã¢â‚¬Å¡Ãƒâ€šÃ‚Â...  "
      ]
     },
     "execution_count": 12,
     "metadata": {},
     "output_type": "execute_result"
    }
   ],
   "source": [
    "df1.head()"
   ]
  },
  {
   "cell_type": "code",
   "execution_count": 10,
   "metadata": {},
   "outputs": [
    {
     "data": {
      "text/html": [
       "<div>\n",
       "<style scoped>\n",
       "    .dataframe tbody tr th:only-of-type {\n",
       "        vertical-align: middle;\n",
       "    }\n",
       "\n",
       "    .dataframe tbody tr th {\n",
       "        vertical-align: top;\n",
       "    }\n",
       "\n",
       "    .dataframe thead th {\n",
       "        text-align: right;\n",
       "    }\n",
       "</style>\n",
       "<table border=\"1\" class=\"dataframe\">\n",
       "  <thead>\n",
       "    <tr style=\"text-align: right;\">\n",
       "      <th></th>\n",
       "      <th>NAME</th>\n",
       "      <th>Categories</th>\n",
       "    </tr>\n",
       "  </thead>\n",
       "  <tbody>\n",
       "    <tr>\n",
       "      <th>0</th>\n",
       "      <td>লিখন - ছবিতে বাংলা | Likhon - Bangla on Photos</td>\n",
       "      <td>Art &amp; Design</td>\n",
       "    </tr>\n",
       "    <tr>\n",
       "      <th>1</th>\n",
       "      <td>আবেগ : Abeg - ছবিতে বাংলা লিখুন, Bangla on Photos</td>\n",
       "      <td>Art &amp; Design</td>\n",
       "    </tr>\n",
       "    <tr>\n",
       "      <th>2</th>\n",
       "      <td>বাংলা টাইপোগ্রাফি | ছবিতে লিখুন মনের কথা বাংলায়</td>\n",
       "      <td>Art &amp; Design</td>\n",
       "    </tr>\n",
       "    <tr>\n",
       "      <th>3</th>\n",
       "      <td>রংতুলি । Rongtuli - Bangla on Photos</td>\n",
       "      <td>Art &amp; Design</td>\n",
       "    </tr>\n",
       "    <tr>\n",
       "      <th>4</th>\n",
       "      <td>মেহেদি ডিজাইন ২০২০~ mehndi design 2020</td>\n",
       "      <td>Art &amp; Design</td>\n",
       "    </tr>\n",
       "  </tbody>\n",
       "</table>\n",
       "</div>"
      ],
      "text/plain": [
       "                                                NAME    Categories\n",
       "0     লিখন - ছবিতে বাংলা | Likhon - Bangla on Photos  Art & Design\n",
       "1  আবেগ : Abeg - ছবিতে বাংলা লিখুন, Bangla on Photos  Art & Design\n",
       "2    বাংলা টাইপোগ্রাফি | ছবিতে লিখুন মনের কথা বাংলায়  Art & Design\n",
       "3               রংতুলি । Rongtuli - Bangla on Photos  Art & Design\n",
       "4             মেহেদি ডিজাইন ২০২০~ mehndi design 2020  Art & Design"
      ]
     },
     "execution_count": 10,
     "metadata": {},
     "output_type": "execute_result"
    }
   ],
   "source": [
    "df2.head()"
   ]
  },
  {
   "cell_type": "code",
   "execution_count": 20,
   "metadata": {},
   "outputs": [
    {
     "data": {
      "text/plain": [
       "True     1999\n",
       "False     115\n",
       "Name: app_name, dtype: int64"
      ]
     },
     "execution_count": 20,
     "metadata": {},
     "output_type": "execute_result"
    }
   ],
   "source": [
    "df1['app_name'].isin(df2['NAME']).value_counts()"
   ]
  },
  {
   "cell_type": "code",
   "execution_count": 27,
   "metadata": {},
   "outputs": [],
   "source": [
    "df1_list = df1['app_name'].tolist()\n",
    "df2_list = df2['NAME'].tolist()"
   ]
  },
  {
   "cell_type": "code",
   "execution_count": 29,
   "metadata": {},
   "outputs": [
    {
     "name": "stdout",
     "output_type": "stream",
     "text": [
      "2114 1999\n"
     ]
    }
   ],
   "source": [
    "print(len(df1_list), len(df2_list))"
   ]
  },
  {
   "cell_type": "code",
   "execution_count": 48,
   "metadata": {},
   "outputs": [
    {
     "name": "stdout",
     "output_type": "stream",
     "text": [
      "1283 1282\n"
     ]
    }
   ],
   "source": [
    "df1_set = set(df1_list)\n",
    "df2_set = set(df2_list)\n",
    "print(len(df1_set), len(df2_set))"
   ]
  },
  {
   "cell_type": "code",
   "execution_count": 44,
   "metadata": {},
   "outputs": [
    {
     "name": "stdout",
     "output_type": "stream",
     "text": [
      "4113 1283\n"
     ]
    }
   ],
   "source": [
    "all_list = df1_list + df2_list\n",
    "all_set = set(all_list)\n",
    "print(len(all_list), len(all_set))"
   ]
  },
  {
   "cell_type": "code",
   "execution_count": 46,
   "metadata": {},
   "outputs": [],
   "source": [
    "df1_union_df2 = df1_set.union(df2_set)"
   ]
  },
  {
   "cell_type": "code",
   "execution_count": 47,
   "metadata": {},
   "outputs": [
    {
     "data": {
      "text/plain": [
       "1283"
      ]
     },
     "execution_count": 47,
     "metadata": {},
     "output_type": "execute_result"
    }
   ],
   "source": [
    "len(df1_union_df2)"
   ]
  },
  {
   "cell_type": "code",
   "execution_count": null,
   "metadata": {},
   "outputs": [],
   "source": []
  }
 ],
 "metadata": {
  "kernelspec": {
   "display_name": "Python 3",
   "language": "python",
   "name": "python3"
  },
  "language_info": {
   "codemirror_mode": {
    "name": "ipython",
    "version": 3
   },
   "file_extension": ".py",
   "mimetype": "text/x-python",
   "name": "python",
   "nbconvert_exporter": "python",
   "pygments_lexer": "ipython3",
   "version": "3.7.1"
  }
 },
 "nbformat": 4,
 "nbformat_minor": 2
}
